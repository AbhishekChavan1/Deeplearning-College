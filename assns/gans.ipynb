{
  "nbformat": 4,
  "nbformat_minor": 0,
  "metadata": {
    "colab": {
      "provenance": [],
      "gpuType": "T4"
    },
    "kernelspec": {
      "name": "python3",
      "display_name": "Python 3"
    },
    "language_info": {
      "name": "python"
    },
    "accelerator": "GPU"
  },
  "cells": [
    {
      "cell_type": "code",
      "source": [
        "# Clone StyleGAN3 repository\n",
        "!git clone https://github.com/NVlabs/stylegan3.git\n",
        "%cd stylegan3\n",
        "\n",
        "# Install dependencies\n",
        "!pip install torch torchvision numpy scipy tqdm click requests ninja imageio-ffmpeg\n"
      ],
      "metadata": {
        "id": "wzsWhImj5p7b"
      },
      "execution_count": null,
      "outputs": []
    },
    {
      "cell_type": "code",
      "source": [
        "#!/bin/bash\n",
        "!kaggle datasets download blank1508/mendeley-lbc-cervical-cancer\n",
        "!unzip mendeley-lbc-cervical-cancer.zip -d cancer_dataset\n",
        "!rm -rf mendeley-lbc-cervical-cancer.zip"
      ],
      "metadata": {
        "id": "KQOt__0b2I9X"
      },
      "execution_count": null,
      "outputs": []
    },
    {
      "cell_type": "code",
      "source": [
        "!python dataset_tool.py --source=datasets/cancer_images --dest=datasets/cancer_dataset.zip --resolution=512x512"
      ],
      "metadata": {
        "id": "7nS95Dx7423-"
      },
      "execution_count": null,
      "outputs": []
    },
    {
      "cell_type": "code",
      "source": [
        "!python train.py --outdir=results --cfg=stylegan3-t --data=datasets/cancer_dataset.zip --gpus=1 --batch=16 --snap=50\n"
      ],
      "metadata": {
        "id": "p3jCFzc051Wr"
      },
      "execution_count": null,
      "outputs": []
    }
  ]
}