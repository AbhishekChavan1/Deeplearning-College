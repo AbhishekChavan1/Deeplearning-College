{
  "nbformat": 4,
  "nbformat_minor": 0,
  "metadata": {
    "colab": {
      "provenance": [],
      "gpuType": "T4"
    },
    "kernelspec": {
      "name": "python3",
      "display_name": "Python 3"
    },
    "language_info": {
      "name": "python"
    },
    "accelerator": "GPU"
  },
  "cells": [
    {
      "cell_type": "code",
      "source": [
        "!pip install mediapipe opencv-python\n",
        "!pip install --upgrade --force-reinstall numpy\n",
        "!pip install --upgrade --force-reinstall mediapipe opencv-python"
      ],
      "metadata": {
        "id": "km0TIkixbRlZ"
      },
      "execution_count": null,
      "outputs": []
    },
    {
      "cell_type": "code",
      "source": [
        "import cv2\n",
        "import mediapipe as mp\n",
        "import numpy as np\n",
        "from google.colab.patches import cv2_imshow\n",
        "mp_pose = mp.solutions.pose\n",
        "pose = mp_pose.Pose(min_detection_confidence=0.8, min_tracking_confidence=0.8)\n",
        "mp_drawing = mp.solutions.drawing_utils"
      ],
      "metadata": {
        "id": "-ndyB63Nbg0F",
        "colab": {
          "base_uri": "https://localhost:8080/"
        },
        "outputId": "0fefefac-3a1b-4000-db8d-41b7a4449d3a"
      },
      "execution_count": null,
      "outputs": [
        {
          "output_type": "stream",
          "name": "stderr",
          "text": [
            "/usr/local/lib/python3.11/dist-packages/jaxlib/plugin_support.py:71: RuntimeWarning: JAX plugin jax_cuda12_plugin version 0.5.1 is installed, but it is not compatible with the installed jaxlib version 0.5.3, so it will not be used.\n",
            "  warnings.warn(\n"
          ]
        }
      ]
    },
    {
      "cell_type": "code",
      "source": [
        "def calculate_angle(a, b, c):\n",
        "    a = np.array(a)\n",
        "    b = np.array(b)\n",
        "    c = np.array(c)\n",
        "\n",
        "    radians = np.arctan2(c[1]-b[1], c[0]-b[0]) - np.arctan2(a[1]-b[1], a[0]-b[0])\n",
        "    angle = np.abs(radians * 180.0 / np.pi)\n",
        "    if angle > 180.0:\n",
        "        angle = 360 - angle\n",
        "    return angle"
      ],
      "metadata": {
        "id": "H3U5tyVpJYBO"
      },
      "execution_count": null,
      "outputs": []
    },
    {
      "cell_type": "code",
      "source": [
        "def draw_text_with_background(image, text, position, text_color, bg_color, font_scale=1.3, thickness=2):\n",
        "    font = cv2.FONT_HERSHEY_SIMPLEX\n",
        "    text_size, _ = cv2.getTextSize(text, font, font_scale, thickness)\n",
        "    bottom_left = position\n",
        "    top_right = (position[0] + text_size[0], position[1] - text_size[1] - 10)\n",
        "    text_position = (bottom_left[0], bottom_left[1] - 5)\n",
        "    cv2.rectangle(image, bottom_left, top_right, bg_color, cv2.FILLED)\n",
        "    cv2.putText(image, text, text_position, font, font_scale, text_color, thickness)"
      ],
      "metadata": {
        "id": "LydJ-aUfJX-y"
      },
      "execution_count": null,
      "outputs": []
    },
    {
      "cell_type": "code",
      "source": [
        "def draw_angles_with_background(image, angle, text_pos):\n",
        "    rectangle_color = (128, 128, 128)\n",
        "    text_color = (255, 255, 255)\n",
        "    text_size = cv2.getTextSize(str(angle), cv2.FONT_HERSHEY_SIMPLEX, 0.5, 2)[0]\n",
        "    cv2.rectangle(image, (text_pos[0], text_pos[1] - text_size[1] - 2),\n",
        "                  (text_pos[0] + text_size[0], text_pos[1]), rectangle_color, -1)\n",
        "    cv2.putText(image, str(angle), text_pos, cv2.FONT_HERSHEY_SIMPLEX, 0.5,\n",
        "                text_color, 2, cv2.LINE_AA)"
      ],
      "metadata": {
        "id": "Uk-63NGgKJ8o"
      },
      "execution_count": null,
      "outputs": []
    },
    {
      "cell_type": "code",
      "source": [
        "# Use the uploaded filename\n",
        "video_path = '/content/WIN_20250411_19_34_31_Pro.mp4'\n",
        "cap = cv2.VideoCapture(video_path)\n",
        "frame_count = 0"
      ],
      "metadata": {
        "id": "9UOxfBwYKJ55"
      },
      "execution_count": null,
      "outputs": []
    },
    {
      "cell_type": "code",
      "source": [
        "with mp_pose.Pose(min_detection_confidence=0.8, min_tracking_confidence=0.8) as pose:\n",
        "    while cap.isOpened():\n",
        "        ret, frame = cap.read()\n",
        "        if not ret or frame_count > 300:  # limit to 300 frames for display\n",
        "            break\n",
        "\n",
        "        image_rgb = cv2.cvtColor(frame, cv2.COLOR_BGR2RGB)\n",
        "        results = pose.process(image_rgb)\n",
        "        image = frame.copy()\n",
        "\n",
        "        try:\n",
        "            landmarks = results.pose_landmarks.landmark\n",
        "\n",
        "            left_shoulder = [landmarks[mp_pose.PoseLandmark.LEFT_SHOULDER.value].x,\n",
        "                             landmarks[mp_pose.PoseLandmark.LEFT_SHOULDER.value].y]\n",
        "            left_elbow = [landmarks[mp_pose.PoseLandmark.LEFT_ELBOW.value].x,\n",
        "                          landmarks[mp_pose.PoseLandmark.LEFT_ELBOW.value].y]\n",
        "            left_wrist = [landmarks[mp_pose.PoseLandmark.LEFT_WRIST.value].x,\n",
        "                          landmarks[mp_pose.PoseLandmark.LEFT_WRIST.value].y]\n",
        "\n",
        "            right_shoulder = [landmarks[mp_pose.PoseLandmark.RIGHT_SHOULDER.value].x,\n",
        "                              landmarks[mp_pose.PoseLandmark.RIGHT_SHOULDER.value].y]\n",
        "            right_elbow = [landmarks[mp_pose.PoseLandmark.RIGHT_ELBOW.value].x,\n",
        "                           landmarks[mp_pose.PoseLandmark.RIGHT_ELBOW.value].y]\n",
        "            right_wrist = [landmarks[mp_pose.PoseLandmark.RIGHT_WRIST.value].x,\n",
        "                           landmarks[mp_pose.PoseLandmark.RIGHT_WRIST.value].y]\n",
        "\n",
        "            left_angle = round(calculate_angle(left_shoulder, left_elbow, left_wrist), 2)\n",
        "            right_angle = round(calculate_angle(right_shoulder, right_elbow, right_wrist), 2)\n",
        "\n",
        "            left_shoulder_angle = round(calculate_angle(left_elbow, left_shoulder, right_shoulder), 2)\n",
        "            right_shoulder_angle = round(calculate_angle(right_elbow, right_shoulder, left_shoulder), 2)\n",
        "\n",
        "            if left_angle < 60 or right_angle < 60 or left_angle > 110 or right_angle > 110 or \\\n",
        "               left_shoulder_angle < 140 or right_shoulder_angle < 140:\n",
        "                draw_text_with_background(image, \"WRONG POSTURE: CHECK THE ANGLES!\", (20, 40), (0, 0, 255), (0, 0, 0))\n",
        "            else:\n",
        "                draw_text_with_background(image, \"RIGHT POSTURE! GOOD WORK!\", (20, 40), (0, 255, 0), (0, 0, 0))\n",
        "\n",
        "            text_pos_left = tuple(np.add(np.multiply(left_elbow, [image.shape[1], image.shape[0]]).astype(int), (-20, -20)))\n",
        "            text_pos_right = tuple(np.add(np.multiply(right_elbow, [image.shape[1], image.shape[0]]).astype(int), (-20, -20)))\n",
        "            text_pos_shoulder_left = tuple(np.add(np.multiply(left_shoulder, [image.shape[1], image.shape[0]]).astype(int), (-20, -20)))\n",
        "            text_pos_shoulder_right = tuple(np.add(np.multiply(right_shoulder, [image.shape[1], image.shape[0]]).astype(int), (-20, -20)))\n",
        "\n",
        "            draw_angles_with_background(image, right_angle, text_pos_right)\n",
        "            draw_angles_with_background(image, left_angle, text_pos_left)\n",
        "            draw_angles_with_background(image, left_shoulder_angle, text_pos_shoulder_left)\n",
        "            draw_angles_with_background(image, right_shoulder_angle, text_pos_shoulder_right)\n",
        "\n",
        "        except:\n",
        "            pass\n",
        "\n",
        "        mp_drawing.draw_landmarks(image, results.pose_landmarks, mp_pose.POSE_CONNECTIONS,\n",
        "                                  mp_drawing.DrawingSpec(color=(0, 255, 255), thickness=2, circle_radius=5),\n",
        "                                  mp_drawing.DrawingSpec(color=(0, 255, 255), thickness=2))\n",
        "\n",
        "        cv2_imshow(image)\n",
        "        frame_count += 1\n",
        "\n",
        "cap.release()\n",
        "cv2.destroyAllWindows()"
      ],
      "metadata": {
        "id": "cMGd30fMLmLj"
      },
      "execution_count": null,
      "outputs": []
    },
    {
      "cell_type": "code",
      "source": [],
      "metadata": {
        "id": "7cJGyL8VLmIn"
      },
      "execution_count": null,
      "outputs": []
    },
    {
      "cell_type": "code",
      "source": [],
      "metadata": {
        "id": "ztHcRXxtLmEX"
      },
      "execution_count": null,
      "outputs": []
    }
  ]
}