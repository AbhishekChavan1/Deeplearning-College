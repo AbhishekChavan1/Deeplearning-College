{
  "nbformat": 4,
  "nbformat_minor": 0,
  "metadata": {
    "colab": {
      "provenance": []
    },
    "kernelspec": {
      "name": "python3",
      "display_name": "Python 3"
    },
    "language_info": {
      "name": "python"
    }
  },
  "cells": [
    {
      "cell_type": "code",
      "source": [
        "import cv2\n",
        "import numpy as np\n",
        "from matplotlib import pyplot as plt\n",
        "from google.colab import files\n",
        "import io\n",
        "from PIL import Image\n",
        "from google.colab.patches import cv2_imshow\n",
        "import time #delay\n",
        "import imutils #resize\n",
        "\n",
        "video_path = '/content/Traffic IP Camera video.mp4'\n",
        "cam = cv2.VideoCapture(video_path)"
      ],
      "metadata": {
        "id": "HQ_mXc5_xyS9"
      },
      "execution_count": null,
      "outputs": []
    },
    {
      "cell_type": "code",
      "source": [
        "time.sleep(1)\n",
        "firstFrame=None\n",
        "area = 500\n",
        "\n",
        "while True:\n",
        "    ret, img = cam.read() #read frame from camera\n",
        "    # Check if frame is read correctly\n",
        "    if not ret:\n",
        "        print(\"Error: Failed to capture frame from camera\")\n",
        "        break  # Exit the loop if frame capture fails\n",
        "\n",
        "    text = \"Normal\"\n",
        "    img = imutils.resize(img, width=500) #resize\n",
        "\n",
        "    grayImg = cv2.cvtColor(img, cv2.COLOR_BGR2GRAY) #color 2 Gray scale image\n",
        "\n",
        "    gaussianImg = cv2.GaussianBlur(grayImg, (21, 21), 0) #smoothened\n",
        "\n",
        "    if firstFrame is None:\n",
        "            firstFrame = gaussianImg #capturing 1st frame on 1st iteration\n",
        "            continue\n",
        "\n",
        "    imgDiff = cv2.absdiff(firstFrame, gaussianImg) #absolute diff b/w 1st nd current frame\n",
        "\n",
        "    threshImg = cv2.threshold(imgDiff, 25, 255, cv2.THRESH_BINARY)[1] #binary\n",
        "\n",
        "    threshImg = cv2.dilate(threshImg, None, iterations=2)\n",
        "\n",
        "    cnts = cv2.findContours(threshImg.copy(), cv2.RETR_EXTERNAL,\n",
        "            cv2.CHAIN_APPROX_SIMPLE)\n",
        "\n",
        "    cnts = imutils.grab_contours(cnts)\n",
        "    for c in cnts:\n",
        "            if cv2.contourArea(c) < area:\n",
        "                    continue\n",
        "            (x, y, w, h) = cv2.boundingRect(c)\n",
        "            cv2.rectangle(img, (x, y), (x + w, y + h), (0, 255, 0), 2)\n",
        "            text = \"Moving Object detected\"\n",
        "    print(text)\n",
        "    cv2.putText(img, text, (10, 20),\n",
        "            cv2.FONT_HERSHEY_SIMPLEX, 0.5, (0, 0, 255), 2)\n",
        "    cv2_imshow(img)\n",
        "    key = cv2.waitKey(1) & 0xFF\n",
        "    if key == ord(\"q\"):\n",
        "        break\n",
        "\n",
        "cam.release()\n",
        "cv2.destroyAllWindows()"
      ],
      "metadata": {
        "colab": {
          "base_uri": "https://localhost:8080/",
          "height": 1000
        },
        "id": "k-bf9VGmsHju",
        "outputId": "8cc28063-d8a0-46a8-ad06-b3f1fa0b3d41"
      },
      "execution_count": null,
      "outputs": []
    }
  ]
}